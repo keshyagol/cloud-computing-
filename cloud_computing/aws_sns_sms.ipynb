{
 "cells": [
  {
   "cell_type": "code",
   "execution_count": 1,
   "metadata": {},
   "outputs": [
    {
     "name": "stdout",
     "output_type": "stream",
     "text": [
      "SMS sent to +917387514448\n"
     ]
    }
   ],
   "source": [
    "import boto3\n",
    "\n",
    "def send_sms(number, message):\n",
    "  client = boto3.client(\n",
    "      \"sns\",\n",
    "      aws_access_key_id=\"\",\n",
    "      aws_secret_access_key=\"\",\n",
    "      region_name=\"us-east-1\"\n",
    "  )\n",
    "\n",
    "  # Send your sms message.\n",
    "  client.publish(\n",
    "    PhoneNumber='+91'+number,\n",
    "    Message=message,\n",
    "    MessageAttributes={\n",
    "      'AWS.SNS.SMS.SenderID': {\n",
    "        'DataType': 'String',\n",
    "        'StringValue': 'OCL'   \n",
    "      },\n",
    "      'AWS.SNS.SMS.SMSType': {\n",
    "        'DataType': 'String',\n",
    "        'StringValue': 'Transactional'\n",
    "      }    \n",
    "    }   \n",
    "  )  \n",
    "\n",
    "  print 'SMS sent to +91' + number\n",
    "    \n",
    "send_sms('7387514448', 'Hey there!')"
   ]
  },
  {
   "cell_type": "code",
   "execution_count": null,
   "metadata": {},
   "outputs": [],
   "source": []
  }
 ],
 "metadata": {
  "kernelspec": {
   "display_name": "Python 2",
   "language": "python",
   "name": "python2"
  },
  "language_info": {
   "codemirror_mode": {
    "name": "ipython",
    "version": 2
   },
   "file_extension": ".py",
   "mimetype": "text/x-python",
   "name": "python",
   "nbconvert_exporter": "python",
   "pygments_lexer": "ipython2",
   "version": "2.7.12"
  }
 },
 "nbformat": 4,
 "nbformat_minor": 2
}
