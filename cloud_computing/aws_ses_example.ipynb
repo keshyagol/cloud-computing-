{
 "cells": [
  {
   "cell_type": "code",
   "execution_count": 1,
   "metadata": {},
   "outputs": [
    {
     "name": "stdout",
     "output_type": "stream",
     "text": [
      "Email sent\n"
     ]
    }
   ],
   "source": [
    "import smtplib\n",
    "\n",
    "def sendemail(email_id, email_sub, email_msg):\n",
    "\t\n",
    "\theader  = 'From: Gopal<hgopalkrishnan@gmail.com>\\n'\n",
    "\theader += 'To: ' + email_id + '\\n'\n",
    "\theader += 'Subject: ' + email_sub + '\\n\\n'\n",
    "\n",
    "\tmessage = email_msg\n",
    "\n",
    "\tmessage = header + message\n",
    "\n",
    "\tserver = smtplib.SMTP('email-smtp.us-east-1.amazonaws.com', 587)\n",
    "\tserver.starttls()\n",
    "\tserver.login('','')\n",
    "\t\n",
    "\tproblems = server.sendmail('', email_id, message)\n",
    "\tprint('Email sent')\n",
    "\t\n",
    "\tserver.quit()\n",
    "\n",
    "\n",
    "sendemail('', 'Test', 'Hey there!')"
   ]
  },
  {
   "cell_type": "code",
   "execution_count": null,
   "metadata": {},
   "outputs": [],
   "source": []
  }
 ],
 "metadata": {
  "kernelspec": {
   "display_name": "Python 2",
   "language": "python",
   "name": "python2"
  },
  "language_info": {
   "codemirror_mode": {
    "name": "ipython",
    "version": 2
   },
   "file_extension": ".py",
   "mimetype": "text/x-python",
   "name": "python",
   "nbconvert_exporter": "python",
   "pygments_lexer": "ipython2",
   "version": "2.7.12"
  }
 },
 "nbformat": 4,
 "nbformat_minor": 2
}
